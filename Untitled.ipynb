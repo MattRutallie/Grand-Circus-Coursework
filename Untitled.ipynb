{
 "cells": [
  {
   "cell_type": "code",
   "execution_count": 23,
   "id": "d4497546-aa4d-4f08-8995-59d46435a38c",
   "metadata": {},
   "outputs": [],
   "source": [
    "import pandas as pd\n",
    "import matplotlib.pyplot as plt\n",
    "from sklearn.model_selection import train_test_split\n",
    "from sklearn.ensemble import RandomForestClassifier\n",
    "from sklearn.metrics import accuracy_score, classification_report, confusion_matrix\n",
    "\n"
   ]
  },
  {
   "cell_type": "code",
   "execution_count": null,
   "id": "f0d4fba5-ebb6-4f65-b38c-ebc1527e6cb7",
   "metadata": {},
   "outputs": [],
   "source": [
    "df = pd.read_csv('rail_data_cleaned_20231230163941.csv')"
   ]
  },
  {
   "cell_type": "code",
   "execution_count": null,
   "id": "e4251c5f-7405-446c-94e4-48e8af958b93",
   "metadata": {},
   "outputs": [],
   "source": [
    "df.info"
   ]
  },
  {
   "cell_type": "code",
   "execution_count": null,
   "id": "cf3d604d",
   "metadata": {},
   "outputs": [],
   "source": [
    "df.isnull().sum()"
   ]
  },
  {
   "cell_type": "code",
   "execution_count": null,
   "id": "0a18acc0",
   "metadata": {},
   "outputs": [],
   "source": [
    "df.drop('working_time_pass', axis=1, inplace=True)"
   ]
  },
  {
   "cell_type": "code",
   "execution_count": null,
   "id": "3fa7b8e5",
   "metadata": {},
   "outputs": [],
   "source": [
    "df.drop('0', axis=1, inplace=True)"
   ]
  },
  {
   "cell_type": "code",
   "execution_count": null,
   "id": "548b2d3f",
   "metadata": {},
   "outputs": [],
   "source": [
    "df.isnull().sum()"
   ]
  },
  {
   "cell_type": "code",
   "execution_count": null,
   "id": "61ad4cd8",
   "metadata": {},
   "outputs": [],
   "source": [
    "df.drop('platform', axis=1, inplace=True)"
   ]
  },
  {
   "cell_type": "code",
   "execution_count": null,
   "id": "ee9e7cbd",
   "metadata": {},
   "outputs": [],
   "source": [
    "df.groupby('train_platform')['is_delayed_arrival'].sum().sort_values(ascending=False)"
   ]
  },
  {
   "cell_type": "code",
   "execution_count": null,
   "id": "30ec713a",
   "metadata": {},
   "outputs": [],
   "source": [
    "df.drop('train_length', axis=1, inplace=True)"
   ]
  },
  {
   "cell_type": "code",
   "execution_count": null,
   "id": "7d61e72e",
   "metadata": {},
   "outputs": [],
   "source": [
    "df.info()"
   ]
  },
  {
   "cell_type": "code",
   "execution_count": null,
   "id": "f79f8b64",
   "metadata": {},
   "outputs": [],
   "source": [
    "df['update_origin'].fillna(df['update_origin'].mode()[0], inplace=True)"
   ]
  },
  {
   "cell_type": "code",
   "execution_count": null,
   "id": "6fb89308",
   "metadata": {},
   "outputs": [],
   "source": [
    "df['service_start_date'] = pd.to_datetime(df['service_start_date'])\n",
    "df['working_time_arrival'] = pd.to_datetime(df['working_time_arrival'])"
   ]
  },
  {
   "cell_type": "code",
   "execution_count": null,
   "id": "5fd502cf",
   "metadata": {},
   "outputs": [],
   "source": [
    "df['month'] = df['service_start_date'].dt.month\n",
    "df['day_of_week'] = df['service_start_date'].dt.dayofweek\n",
    "df['hour'] = df['working_time_arrival'].dt.hour"
   ]
  },
  {
   "cell_type": "code",
   "execution_count": null,
   "id": "d831e086",
   "metadata": {},
   "outputs": [],
   "source": [
    "monthly_counts = df['month'].value_counts().sort_index()"
   ]
  }
 ],
 "metadata": {
  "kernelspec": {
   "display_name": "Python 3 (ipykernel)",
   "language": "python",
   "name": "python3"
  },
  "language_info": {
   "codemirror_mode": {
    "name": "ipython",
    "version": 3
   },
   "file_extension": ".py",
   "mimetype": "text/x-python",
   "name": "python",
   "nbconvert_exporter": "python",
   "pygments_lexer": "ipython3",
   "version": "3.11.6"
  }
 },
 "nbformat": 4,
 "nbformat_minor": 5
}
